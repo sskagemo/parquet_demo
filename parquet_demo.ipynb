{
 "cells": [
  {
   "cell_type": "markdown",
   "metadata": {},
   "source": [
    "# Demonstrasjon av filformatet Apache Markdown med Python Pandas\n",
    "Brønnøysundregistrene er en av mange aktører som tilbyr åpne data, både gjennom API-er og gjennom nedlasting av filer.\n",
    "Du kan for eksempel laste ned hele eller deler av Enhetsregisteret som en JSON-fil eller Excel-fil. Det første formatet\n",
    "er populært for de som skal bruke dataene ved hjelp av et programmeringsspråk, mens det siste er populært for alle andre.\n",
    "\n",
    "Begge formatene har fordeler og ulemper. Fordelen med Excel-formatet er selvsagt at det gjør det veldig lett å bruke\n",
    "dataene med regneark-program som Microsoft Excel. Og siden det er et så populært program, er det også mange andre\n",
    "verktøy som støtter det formatet.\n",
    "\n",
    "Stadig flere bruker Python og Pandas for å jobbe med data, både for å forberede dataene for analyse, og for selve analysen. \n",
    "Og mange bruker et \"notebook\"-verktøy, for å gjøre dette, slik som jeg har gjort her, gjennom en Jupyter Notebook.\n",
    "\n",
    "En av grunnene til at det er lett å bruke Pandas er at det støtter Excel-formatet (og JSON-formatet), slik at det er veldig\n",
    "lett å jobbe med data som finnes allerede i Excel, og å lagre resultatet av det du har gjort som Excel for å dele det med\n",
    "andre.\n",
    "\n",
    "Men Pandas støtter også formatet Apache Parquet. Nedenfor skal jeg demonstrere noen av fordelene med det formatet.\n",
    "\n",
    "Men først, vi må få på plass de verktøyene vi trenger, og det er egentlig bare ett: Pandas"
   ]
  },
  {
   "cell_type": "code",
   "execution_count": 2,
   "metadata": {},
   "outputs": [
    {
     "name": "stdout",
     "output_type": "stream",
     "text": [
      "Collecting pandas\n",
      "  Using cached pandas-1.3.4-cp39-cp39-manylinux_2_17_x86_64.manylinux2014_x86_64.whl (11.5 MB)\n",
      "Requirement already satisfied: python-dateutil>=2.7.3 in ./.venv/lib/python3.9/site-packages (from pandas) (2.8.2)\n",
      "Collecting numpy>=1.17.3\n",
      "  Using cached numpy-1.21.4-cp39-cp39-manylinux_2_12_x86_64.manylinux2010_x86_64.whl (15.7 MB)\n",
      "Collecting pytz>=2017.3\n",
      "  Using cached pytz-2021.3-py2.py3-none-any.whl (503 kB)\n",
      "Requirement already satisfied: six>=1.5 in ./.venv/lib/python3.9/site-packages (from python-dateutil>=2.7.3->pandas) (1.16.0)\n",
      "Installing collected packages: pytz, numpy, pandas\n",
      "Successfully installed numpy-1.21.4 pandas-1.3.4 pytz-2021.3\n",
      "Note: you may need to restart the kernel to use updated packages.\n"
     ]
    }
   ],
   "source": [
    "%pip install pandas"
   ]
  },
  {
   "cell_type": "code",
   "execution_count": 5,
   "metadata": {},
   "outputs": [
    {
     "name": "stdout",
     "output_type": "stream",
     "text": [
      "Collecting openpyxl\n",
      "  Using cached openpyxl-3.0.9-py2.py3-none-any.whl (242 kB)\n",
      "Collecting et-xmlfile\n",
      "  Using cached et_xmlfile-1.1.0-py3-none-any.whl (4.7 kB)\n",
      "Installing collected packages: et-xmlfile, openpyxl\n",
      "Successfully installed et-xmlfile-1.1.0 openpyxl-3.0.9\n",
      "Note: you may need to restart the kernel to use updated packages.\n"
     ]
    }
   ],
   "source": [
    "%pip install openpyxl"
   ]
  },
  {
   "cell_type": "code",
   "execution_count": 1,
   "metadata": {},
   "outputs": [],
   "source": [
    "import pandas as pd"
   ]
  },
  {
   "cell_type": "markdown",
   "metadata": {},
   "source": [
    "# Laste ned et passende utvalg av Enhetsregisteret i Excel-format\n",
    "Vær oppmerksom på at du enten må laste ned _hele_ registeret, eller gjøre et søk så du får maksimum 10.000 enheter i resultatet, for med mindre du laster ned hele registeret, får du uansett maks 10.000 enheter.\n",
    "\n",
    "Istedenfor å bruke Python til å laste ned fila bruker jeg kommandolinjeverktøyet curl. Men det er også mulig å bare laste det ned manuelt fra siden og lagre det i samme mappe som Jypyter-fila.\n",
    "\n",
    "Merk at det er en stor fil (ca 200 MB) så det kan ta noen minutter."
   ]
  },
  {
   "cell_type": "code",
   "execution_count": 4,
   "metadata": {},
   "outputs": [
    {
     "data": {
      "text/plain": [
       "('er_utvalg.xlsx', <http.client.HTTPMessage at 0x7ff7dad5ebb0>)"
      ]
     },
     "execution_count": 4,
     "metadata": {},
     "output_type": "execute_result"
    }
   ],
   "source": [
    "%curl 'https://data.brreg.no/enhetsregisteret/api/enheter/lastned/regneark' -X GET \\\n",
    "    -H 'Accept: application/vnd.brreg.enhetsregisteret.enhet+vnd.openxmlformats-officedocument.spreadsheetml.sheet;charset=UTF-8' -J -O"
   ]
  },
  {
   "cell_type": "markdown",
   "metadata": {},
   "source": []
  },
  {
   "cell_type": "markdown",
   "metadata": {},
   "source": [
    "## Lese Excel-fila med Pandas\n",
    "Vi starter med å bruke Pandas til å lese fila, uten å fortelle noe mer detaljer. For å få dokumentert tiden det tar, bruker vi Jypyter-funksjonen 'timeit'. Lurt å ha noe annet å holde på med når dette pågår ... Å svare på epost eller skrive julekort mens maskinen din leser inn hele enhetsregisteret, er eksempel på multitasking som faktisk sparer tid."
   ]
  },
  {
   "cell_type": "code",
   "execution_count": 5,
   "metadata": {},
   "outputs": [
    {
     "name": "stdout",
     "output_type": "stream",
     "text": [
      "11min 18s ± 28.6 s per loop (mean ± std. dev. of 7 runs, 1 loop each)\n"
     ]
    }
   ],
   "source": [
    "%%timeit\n",
    "enheter = pd.read_excel('enheter_alle.xlsx')"
   ]
  },
  {
   "cell_type": "markdown",
   "metadata": {},
   "source": [
    "Resultatet viser at det tar i snitt drøyt 11 minutter å laste inn fila:\n",
    "```11min 18s ± 28.6 s per loop (mean ± std. dev. of 7 runs, 1 loop each)```\n",
    "\n",
    "La oss se nærmere på resultatet i form av minnebruk og hvordan Pandas har tolket de ulike feltene"
   ]
  },
  {
   "cell_type": "code",
   "execution_count": 6,
   "metadata": {},
   "outputs": [
    {
     "name": "stdout",
     "output_type": "stream",
     "text": [
      "<class 'pandas.core.frame.DataFrame'>\n",
      "RangeIndex: 1048575 entries, 0 to 1048574\n",
      "Data columns (total 43 columns):\n",
      " #   Column                                        Non-Null Count    Dtype  \n",
      "---  ------                                        --------------    -----  \n",
      " 0   Organisasjonsnummer                           1048575 non-null  int64  \n",
      " 1   Navn                                          1048575 non-null  object \n",
      " 2   Organisasjonsform.kode                        1048575 non-null  object \n",
      " 3   Organisasjonsform.beskrivelse                 1048575 non-null  object \n",
      " 4   Næringskode 1                                 991572 non-null   float64\n",
      " 5   Næringskode 1.beskrivelse                     991572 non-null   object \n",
      " 6   Næringskode 2                                 40887 non-null    float64\n",
      " 7   Næringskode 2.beskrivelse                     40887 non-null    object \n",
      " 8   Næringskode 3                                 1542 non-null     float64\n",
      " 9   Næringskode 3.beskrivelse                     1542 non-null     object \n",
      " 10  Hjelpeenhetskode                              22833 non-null    float64\n",
      " 11  Hjelpeenhetskode.beskrivelse                  22833 non-null    object \n",
      " 12  Antall ansatte                                1048575 non-null  int64  \n",
      " 13  Hjemmeside                                    119106 non-null   object \n",
      " 14  Postadresse.adresse                           205252 non-null   object \n",
      " 15  Postadresse.poststed                          207051 non-null   object \n",
      " 16  Postadresse.postnummer                        197367 non-null   float64\n",
      " 17  Postadresse.kommune                           197367 non-null   object \n",
      " 18  Postadresse.kommunenummer                     197367 non-null   float64\n",
      " 19  Postadresse.land                              207052 non-null   object \n",
      " 20  Postadresse.landkode                          207049 non-null   object \n",
      " 21  Forretningsadresse.adresse                    1004313 non-null  object \n",
      " 22  Forretningsadresse.poststed                   1033612 non-null  object \n",
      " 23  Forretningsadresse.postnummer                 994414 non-null   float64\n",
      " 24  Forretningsadresse.kommune                    994414 non-null   object \n",
      " 25  Forretningsadresse.kommunenummer              994414 non-null   float64\n",
      " 26  Forretningsadresse.land                       1033612 non-null  object \n",
      " 27  Forretningsadresse.landkode                   1033611 non-null  object \n",
      " 28  Institusjonell sektorkode                     964392 non-null   float64\n",
      " 29  Institusjonell sektorkode.beskrivelse         964392 non-null   object \n",
      " 30  Siste innsendte årsregnskap                   372069 non-null   float64\n",
      " 31  Registreringsdato i Enhetsregisteret          1048575 non-null  object \n",
      " 32  Stiftelsesdato                                588315 non-null   object \n",
      " 33  FrivilligRegistrertIMvaregisteret             46644 non-null    object \n",
      " 34  Registrert i MVA-registeret                   1048575 non-null  object \n",
      " 35  Registrert i Frivillighetsregisteret          1048575 non-null  object \n",
      " 36  Registrert i Foretaksregisteret               1048575 non-null  object \n",
      " 37  Registrert i Stiftelsesregisteret             1048575 non-null  object \n",
      " 38  Konkurs                                       1048575 non-null  object \n",
      " 39  Under avvikling                               1048575 non-null  object \n",
      " 40  Under tvangsavvikling eller tvangsoppløsning  1048575 non-null  object \n",
      " 41  Overordnet enhet i offentlig sektor           1947 non-null     float64\n",
      " 42  Målform                                       1048575 non-null  object \n",
      "dtypes: float64(11), int64(2), object(30)\n",
      "memory usage: 344.0+ MB\n"
     ]
    }
   ],
   "source": [
    "enheter.info()"
   ]
  },
  {
   "cell_type": "markdown",
   "metadata": {},
   "source": [
    "Her ser vi at registeret bruker nesten 350 MB minne slik det er lest inn nå. I kolonnen Dtype ser vi at de fleste feltene har fått datatypen \"object\", som er den generelle datatypen Pandas bruker når den ikke vet bedre. Det er også den datatypen som bruker mest minne.\n",
    "\n",
    "Når vi ser på tabellen ser vi at det er en rekke endringer vi burde gjøre. For det første er Organisasjonsnummer en identifikator, og ikke noe vi skal regne med, så det bør ikke være behandles som et tall (int64). Det er også en del datoer (de er ikke med i sammendraget her), og de blir også behandlet som \"object\", og dermed blir det vanskeligere å bruke Pandas funksjoner for å regne med datoer. "
   ]
  },
  {
   "cell_type": "markdown",
   "metadata": {},
   "source": [
    "## Lagre til en parquet-fil\n"
   ]
  },
  {
   "cell_type": "code",
   "execution_count": 8,
   "metadata": {},
   "outputs": [
    {
     "name": "stdout",
     "output_type": "stream",
     "text": [
      "Collecting pyarrow\n",
      "  Using cached pyarrow-6.0.1-cp39-cp39-manylinux_2_17_x86_64.manylinux2014_x86_64.whl (25.6 MB)\n",
      "Requirement already satisfied: numpy>=1.16.6 in ./.venv/lib/python3.9/site-packages (from pyarrow) (1.21.4)\n",
      "Installing collected packages: pyarrow\n",
      "Successfully installed pyarrow-6.0.1\n",
      "Note: you may need to restart the kernel to use updated packages.\n"
     ]
    }
   ],
   "source": [
    "%pip install pyarrow"
   ]
  },
  {
   "cell_type": "code",
   "execution_count": 9,
   "metadata": {},
   "outputs": [
    {
     "name": "stdout",
     "output_type": "stream",
     "text": [
      "3.06 s ± 624 ms per loop (mean ± std. dev. of 7 runs, 1 loop each)\n"
     ]
    }
   ],
   "source": [
    "%%timeit\n",
    "enheter.to_parquet('enheter_alle.parquet')"
   ]
  },
  {
   "cell_type": "markdown",
   "metadata": {},
   "source": [
    "På min maskin tar det i snitt drøyt tre sekunder å lagre hele registeret til en parquet-fil:\n",
    "```11min 18s ± 28.6 s per loop (mean ± std. dev. of 7 runs, 1 loop each)```\n",
    "\n",
    "Det er også interessant å se at størrelsen er så forskjellig på de to filene:"
   ]
  },
  {
   "cell_type": "code",
   "execution_count": 10,
   "metadata": {},
   "outputs": [
    {
     "name": "stdout",
     "output_type": "stream",
     "text": [
      "-rw-r--r-- 1 wslstsk  57558674 Nov 27 19:15 enheter_alle.parquet\n",
      "-rw-r--r-- 1 wslstsk 206038606 Nov 27 17:01 enheter_alle.xlsx\n"
     ]
    }
   ],
   "source": [
    "%ll enheter_alle.*"
   ]
  },
  {
   "cell_type": "markdown",
   "metadata": {},
   "source": [
    "parquet-fila er nesten bare en fjerdedel av Excel-fila.\n",
    "\n",
    "Lesing av parquet-fila går sjokkerende mye raskere enn å lese excel:"
   ]
  },
  {
   "cell_type": "code",
   "execution_count": 6,
   "metadata": {},
   "outputs": [
    {
     "name": "stdout",
     "output_type": "stream",
     "text": [
      "1.68 s ± 296 ms per loop (mean ± std. dev. of 7 runs, 1 loop each)\n"
     ]
    }
   ],
   "source": [
    "%%timeit\n",
    "enheter = pd.read_parquet('enheter_alle.parquet')"
   ]
  },
  {
   "cell_type": "markdown",
   "metadata": {},
   "source": [
    "Med timeit ser vi at det i stnitt tar under _to_ sekunder å lese hele registeret fra parquet. Mot 11 minutter for Excel.\n",
    "```1.68 s ± 296 ms per loop (mean ± std. dev. of 7 runs, 1 loop each)```\n",
    "\n",
    "Men har vi da fått med de samme dataene? La oss se:"
   ]
  },
  {
   "cell_type": "code",
   "execution_count": 7,
   "metadata": {},
   "outputs": [
    {
     "name": "stdout",
     "output_type": "stream",
     "text": [
      "<class 'pandas.core.frame.DataFrame'>\n",
      "RangeIndex: 1048575 entries, 0 to 1048574\n",
      "Data columns (total 43 columns):\n",
      " #   Column                                        Non-Null Count    Dtype  \n",
      "---  ------                                        --------------    -----  \n",
      " 0   Organisasjonsnummer                           1048575 non-null  int64  \n",
      " 1   Navn                                          1048575 non-null  object \n",
      " 2   Organisasjonsform.kode                        1048575 non-null  object \n",
      " 3   Organisasjonsform.beskrivelse                 1048575 non-null  object \n",
      " 4   Næringskode 1                                 991572 non-null   float64\n",
      " 5   Næringskode 1.beskrivelse                     991572 non-null   object \n",
      " 6   Næringskode 2                                 40887 non-null    float64\n",
      " 7   Næringskode 2.beskrivelse                     40887 non-null    object \n",
      " 8   Næringskode 3                                 1542 non-null     float64\n",
      " 9   Næringskode 3.beskrivelse                     1542 non-null     object \n",
      " 10  Hjelpeenhetskode                              22833 non-null    float64\n",
      " 11  Hjelpeenhetskode.beskrivelse                  22833 non-null    object \n",
      " 12  Antall ansatte                                1048575 non-null  int64  \n",
      " 13  Hjemmeside                                    119106 non-null   object \n",
      " 14  Postadresse.adresse                           205252 non-null   object \n",
      " 15  Postadresse.poststed                          207051 non-null   object \n",
      " 16  Postadresse.postnummer                        197367 non-null   float64\n",
      " 17  Postadresse.kommune                           197367 non-null   object \n",
      " 18  Postadresse.kommunenummer                     197367 non-null   float64\n",
      " 19  Postadresse.land                              207052 non-null   object \n",
      " 20  Postadresse.landkode                          207049 non-null   object \n",
      " 21  Forretningsadresse.adresse                    1004313 non-null  object \n",
      " 22  Forretningsadresse.poststed                   1033612 non-null  object \n",
      " 23  Forretningsadresse.postnummer                 994414 non-null   float64\n",
      " 24  Forretningsadresse.kommune                    994414 non-null   object \n",
      " 25  Forretningsadresse.kommunenummer              994414 non-null   float64\n",
      " 26  Forretningsadresse.land                       1033612 non-null  object \n",
      " 27  Forretningsadresse.landkode                   1033611 non-null  object \n",
      " 28  Institusjonell sektorkode                     964392 non-null   float64\n",
      " 29  Institusjonell sektorkode.beskrivelse         964392 non-null   object \n",
      " 30  Siste innsendte årsregnskap                   372069 non-null   float64\n",
      " 31  Registreringsdato i Enhetsregisteret          1048575 non-null  object \n",
      " 32  Stiftelsesdato                                588315 non-null   object \n",
      " 33  FrivilligRegistrertIMvaregisteret             46644 non-null    object \n",
      " 34  Registrert i MVA-registeret                   1048575 non-null  object \n",
      " 35  Registrert i Frivillighetsregisteret          1048575 non-null  object \n",
      " 36  Registrert i Foretaksregisteret               1048575 non-null  object \n",
      " 37  Registrert i Stiftelsesregisteret             1048575 non-null  object \n",
      " 38  Konkurs                                       1048575 non-null  object \n",
      " 39  Under avvikling                               1048575 non-null  object \n",
      " 40  Under tvangsavvikling eller tvangsoppløsning  1048575 non-null  object \n",
      " 41  Overordnet enhet i offentlig sektor           1947 non-null     float64\n",
      " 42  Målform                                       1048575 non-null  object \n",
      "dtypes: float64(11), int64(2), object(30)\n",
      "memory usage: 344.0+ MB\n"
     ]
    }
   ],
   "source": [
    "enheter.info()"
   ]
  },
  {
   "cell_type": "markdown",
   "metadata": {},
   "source": [
    "Det er like mange kolonner, og like mye minne brukes, så det virker som vi har fått med de samme dataene.\n",
    "\n",
    "## Konklusjon: Stor forskjell på filstørrelse og ENORM i lesehastighet\n",
    "Uten å gjøre noen forsøk på å optimalisere dataene, ser vi likevel at filstørrelsen blir redusert til en fjerdedel, men aller viktigst: Det tar _380_ ganger så lang tid å lese de samme dataene fra en Excel-fil, som fra en parquet-fil!!"
   ]
  },
  {
   "cell_type": "code",
   "execution_count": 11,
   "metadata": {},
   "outputs": [
    {
     "data": {
      "text/plain": [
       "388.2352941176471"
      ]
     },
     "execution_count": 11,
     "metadata": {},
     "output_type": "execute_result"
    }
   ],
   "source": [
    "11*60/1.7"
   ]
  },
  {
   "cell_type": "markdown",
   "metadata": {},
   "source": [
    "## Optimalisering av dataene -- hvordan påvirker det resultatet?\n",
    "La oss sette riktige datatyper på kolonnene, det trengs uansett for å kunne analysere dataene effektivt.\n",
    "\n",
    "(gjenbruk koden fra Github)"
   ]
  }
 ],
 "metadata": {
  "interpreter": {
   "hash": "5888ef05c82a4619c97e80a2648e6ffbdd98d4c1bb9dcaca6c036b1a7f3b1294"
  },
  "kernelspec": {
   "display_name": "Python 3.10.0 64-bit ('.venv': venv)",
   "language": "python",
   "name": "python3"
  },
  "language_info": {
   "codemirror_mode": {
    "name": "ipython",
    "version": 3
   },
   "file_extension": ".py",
   "mimetype": "text/x-python",
   "name": "python",
   "nbconvert_exporter": "python",
   "pygments_lexer": "ipython3",
   "version": "3.9.1"
  },
  "orig_nbformat": 4
 },
 "nbformat": 4,
 "nbformat_minor": 2
}
