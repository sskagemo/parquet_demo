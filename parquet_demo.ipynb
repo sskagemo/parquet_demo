{
 "cells": [
  {
   "cell_type": "markdown",
   "metadata": {},
   "source": [
    "# Demonstrasjon av filformatet Apache Markdown med Python Pandas\n",
    "Brønnøysundregistrene er en av mange aktører som tilbyr åpne data, både gjennom API-er og gjennom nedlasting av filer.\n",
    "Du kan for eksempel laste ned hele eller deler av Enhetsregisteret som en JSON-fil eller Excel-fil. Det første formatet\n",
    "er populært for de som skal bruke dataene ved hjelp av et programmeringsspråk, mens det siste er populært for alle andre.\n",
    "\n",
    "Begge formatene har fordeler og ulemper. Fordelen med Excel-formatet er selvsagt at det gjør det veldig lett å bruke\n",
    "dataene med regneark-program som Microsoft Excel. Og siden det er et så populært program, er det også mange andre\n",
    "verktøy som støtter det formatet.\n",
    "\n",
    "Stadig flere bruker Python og Pandas for å jobbe med data, både for å forberede dataene for analyse, og for selve analysen. \n",
    "Og mange bruker et \"notebook\"-verktøy, for å gjøre dette, slik som jeg har gjort her, gjennom en Jupyter Notebook.\n",
    "\n",
    "En av grunnene til at det er lett å bruke Pandas er at det støtter Excel-formatet (og JSON-formatet), slik at det er veldig\n",
    "lett å jobbe med data som finnes allerede i Excel, og å lagre resultatet av det du har gjort som Excel for å dele det med\n",
    "andre.\n",
    "\n",
    "Men Pandas støtter også formatet Apache Parquet. Nedenfor skal jeg demonstrere noen av fordelene med det formatet.\n",
    "\n",
    "Men først, vi må få på plass de verktøyene vi trenger, og det er egentlig bare ett: Pandas"
   ]
  },
  {
   "cell_type": "code",
   "execution_count": null,
   "metadata": {},
   "outputs": [],
   "source": [
    "import pandas as pd"
   ]
  },
  {
   "cell_type": "code",
   "execution_count": null,
   "metadata": {},
   "outputs": [],
   "source": [
    "print(\"hei\")"
   ]
  },
  {
   "cell_type": "code",
   "execution_count": null,
   "metadata": {},
   "outputs": [],
   "source": []
  }
 ],
 "metadata": {
  "interpreter": {
   "hash": "5888ef05c82a4619c97e80a2648e6ffbdd98d4c1bb9dcaca6c036b1a7f3b1294"
  },
  "kernelspec": {
   "display_name": "Python 3.10.0 64-bit ('.venv': venv)",
   "language": "python",
   "name": "python3"
  },
  "language_info": {
   "name": "python",
   "version": "3.10.0"
  },
  "orig_nbformat": 4
 },
 "nbformat": 4,
 "nbformat_minor": 2
}
